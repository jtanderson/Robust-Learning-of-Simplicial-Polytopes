{
 "cells": [
  {
   "cell_type": "code",
   "execution_count": 9,
   "metadata": {
    "execution": {
     "iopub.execute_input": "2021-07-20T17:06:32.264Z",
     "iopub.status.busy": "2021-07-20T17:06:32.258Z",
     "iopub.status.idle": "2021-07-20T17:06:32.273Z",
     "shell.execute_reply": "2021-07-20T17:06:32.281Z"
    }
   },
   "outputs": [],
   "source": [
    "import numpy as np\n",
    "import scipy.special as sp\n",
    "import matplotlib.pyplot as plt\n",
    "import seaborn as sns\n",
    "from sklearn.neighbors import KernelDensity\n",
    "import plotly.express as px\n",
    "import math\n",
    "import scipy.linalg as la\n",
    "from scipy.integrate import quad"
   ]
  },
  {
   "cell_type": "code",
   "execution_count": 10,
   "metadata": {
    "execution": {
     "iopub.execute_input": "2021-07-20T17:06:32.542Z",
     "iopub.status.busy": "2021-07-20T17:06:32.537Z",
     "iopub.status.idle": "2021-07-20T17:06:32.552Z",
     "shell.execute_reply": "2021-07-20T17:06:32.560Z"
    }
   },
   "outputs": [],
   "source": [
    "def kl_divergence(p, q):\n",
    "    return (sum(p[i] * math.log2(p[i]/q[i]) for i in range(len(p))))"
   ]
  },
  {
   "cell_type": "code",
   "execution_count": 27,
   "metadata": {
    "execution": {
     "iopub.execute_input": "2021-07-20T17:06:25.325Z",
     "iopub.status.busy": "2021-07-20T17:06:25.319Z"
    }
   },
   "outputs": [],
   "source": [
    "index = 0\n",
    "p_mat = [x for x in np.arange(0,1,.05)]\n",
    "kl_div = np.zeros(len(p_mat))\n",
    "tvd = np.zeros(len([x for x in np.arange(0,1,.05)]))\n",
    "for p_ in p_mat:\n",
    "    p = [np.real(density_par(num, p_,2000)) for num in np.arange(-15,15,.1)]\n",
    "    p_norm = [np.real(density_par(num, p_, 2000))/np.sum(p) for num in np.arange(-15,15,.1)]\n",
    "    q = [pdf_cauchy(num) for num in np.arange(-15,15,.1)]\n",
    "    q_norm = [pdf_cauchy(num)/np.sum(q) for num in np.arange(-15,15,.1)]\n",
    "    r = [np.real(density_par_simplex(num, p_, 2000)) for num in np.arange(-15,15,.1)]\n",
    "    r_norm = [np.real(density_par_simplex(num, p_, 2000))/np.sum(p) for num in np.arange(-15,15,.1)]\n",
    "    kl_div[index] = kl_divergence(p_norm,q_norm)\n",
    "    tvd[index] = (1/2)*la.norm(np.array(p_norm)-np.array(q_norm),1) \n",
    "    tvd2[index] = (1/2)*la.norm(np.array(q_norm)-np.array(r_norm),1) \n",
    "    index += 1"
   ]
  },
  {
   "cell_type": "code",
   "execution_count": 28,
   "metadata": {
    "scrolled": true
   },
   "outputs": [
    {
     "ename": "ValueError",
     "evalue": "x and y must have same first dimension, but have shapes (20,) and (21,)",
     "output_type": "error",
     "traceback": [
      "\u001b[0;31m---------------------------------------------------------------------------\u001b[0m",
      "\u001b[0;31mValueError\u001b[0m                                Traceback (most recent call last)",
      "\u001b[0;32m<ipython-input-28-3262fd54e754>\u001b[0m in \u001b[0;36m<module>\u001b[0;34m\u001b[0m\n\u001b[1;32m      1\u001b[0m \u001b[0mplt\u001b[0m\u001b[0;34m.\u001b[0m\u001b[0mplot\u001b[0m\u001b[0;34m(\u001b[0m\u001b[0mp_mat\u001b[0m\u001b[0;34m,\u001b[0m \u001b[0mtvd\u001b[0m\u001b[0;34m,\u001b[0m \u001b[0;34m'r'\u001b[0m\u001b[0;34m,\u001b[0m \u001b[0mlabel\u001b[0m\u001b[0;34m=\u001b[0m\u001b[0;34m\"TVD\"\u001b[0m\u001b[0;34m)\u001b[0m\u001b[0;34m\u001b[0m\u001b[0;34m\u001b[0m\u001b[0m\n\u001b[0;32m----> 2\u001b[0;31m \u001b[0mplt\u001b[0m\u001b[0;34m.\u001b[0m\u001b[0mplot\u001b[0m\u001b[0;34m(\u001b[0m\u001b[0mp_mat\u001b[0m\u001b[0;34m,\u001b[0m \u001b[0mtvd2\u001b[0m\u001b[0;34m,\u001b[0m \u001b[0;34m'g'\u001b[0m\u001b[0;34m,\u001b[0m \u001b[0mlabel\u001b[0m\u001b[0;34m=\u001b[0m\u001b[0;34m\"TVD2\"\u001b[0m\u001b[0;34m)\u001b[0m\u001b[0;34m\u001b[0m\u001b[0;34m\u001b[0m\u001b[0m\n\u001b[0m\u001b[1;32m      3\u001b[0m \u001b[0mplt\u001b[0m\u001b[0;34m.\u001b[0m\u001b[0mxticks\u001b[0m\u001b[0;34m(\u001b[0m\u001b[0mnp\u001b[0m\u001b[0;34m.\u001b[0m\u001b[0marange\u001b[0m\u001b[0;34m(\u001b[0m\u001b[0;36m0.05\u001b[0m\u001b[0;34m,\u001b[0m \u001b[0;36m1\u001b[0m\u001b[0;34m,\u001b[0m \u001b[0;36m.1\u001b[0m\u001b[0;34m)\u001b[0m\u001b[0;34m)\u001b[0m\u001b[0;34m\u001b[0m\u001b[0;34m\u001b[0m\u001b[0m\n\u001b[1;32m      4\u001b[0m \u001b[0mplt\u001b[0m\u001b[0;34m.\u001b[0m\u001b[0mxlabel\u001b[0m\u001b[0;34m(\u001b[0m\u001b[0;34m\"p\"\u001b[0m\u001b[0;34m)\u001b[0m\u001b[0;34m\u001b[0m\u001b[0;34m\u001b[0m\u001b[0m\n\u001b[1;32m      5\u001b[0m \u001b[0mplt\u001b[0m\u001b[0;34m.\u001b[0m\u001b[0mlegend\u001b[0m\u001b[0;34m(\u001b[0m\u001b[0;34m)\u001b[0m\u001b[0;34m\u001b[0m\u001b[0;34m\u001b[0m\u001b[0m\n",
      "\u001b[0;32m/usr/local/anaconda3/lib/python3.8/site-packages/matplotlib/pyplot.py\u001b[0m in \u001b[0;36mplot\u001b[0;34m(scalex, scaley, data, *args, **kwargs)\u001b[0m\n\u001b[1;32m   2838\u001b[0m \u001b[0;34m@\u001b[0m\u001b[0m_copy_docstring_and_deprecators\u001b[0m\u001b[0;34m(\u001b[0m\u001b[0mAxes\u001b[0m\u001b[0;34m.\u001b[0m\u001b[0mplot\u001b[0m\u001b[0;34m)\u001b[0m\u001b[0;34m\u001b[0m\u001b[0;34m\u001b[0m\u001b[0m\n\u001b[1;32m   2839\u001b[0m \u001b[0;32mdef\u001b[0m \u001b[0mplot\u001b[0m\u001b[0;34m(\u001b[0m\u001b[0;34m*\u001b[0m\u001b[0margs\u001b[0m\u001b[0;34m,\u001b[0m \u001b[0mscalex\u001b[0m\u001b[0;34m=\u001b[0m\u001b[0;32mTrue\u001b[0m\u001b[0;34m,\u001b[0m \u001b[0mscaley\u001b[0m\u001b[0;34m=\u001b[0m\u001b[0;32mTrue\u001b[0m\u001b[0;34m,\u001b[0m \u001b[0mdata\u001b[0m\u001b[0;34m=\u001b[0m\u001b[0;32mNone\u001b[0m\u001b[0;34m,\u001b[0m \u001b[0;34m**\u001b[0m\u001b[0mkwargs\u001b[0m\u001b[0;34m)\u001b[0m\u001b[0;34m:\u001b[0m\u001b[0;34m\u001b[0m\u001b[0;34m\u001b[0m\u001b[0m\n\u001b[0;32m-> 2840\u001b[0;31m     return gca().plot(\n\u001b[0m\u001b[1;32m   2841\u001b[0m         \u001b[0;34m*\u001b[0m\u001b[0margs\u001b[0m\u001b[0;34m,\u001b[0m \u001b[0mscalex\u001b[0m\u001b[0;34m=\u001b[0m\u001b[0mscalex\u001b[0m\u001b[0;34m,\u001b[0m \u001b[0mscaley\u001b[0m\u001b[0;34m=\u001b[0m\u001b[0mscaley\u001b[0m\u001b[0;34m,\u001b[0m\u001b[0;34m\u001b[0m\u001b[0;34m\u001b[0m\u001b[0m\n\u001b[1;32m   2842\u001b[0m         **({\"data\": data} if data is not None else {}), **kwargs)\n",
      "\u001b[0;32m/usr/local/anaconda3/lib/python3.8/site-packages/matplotlib/axes/_axes.py\u001b[0m in \u001b[0;36mplot\u001b[0;34m(self, scalex, scaley, data, *args, **kwargs)\u001b[0m\n\u001b[1;32m   1741\u001b[0m         \"\"\"\n\u001b[1;32m   1742\u001b[0m         \u001b[0mkwargs\u001b[0m \u001b[0;34m=\u001b[0m \u001b[0mcbook\u001b[0m\u001b[0;34m.\u001b[0m\u001b[0mnormalize_kwargs\u001b[0m\u001b[0;34m(\u001b[0m\u001b[0mkwargs\u001b[0m\u001b[0;34m,\u001b[0m \u001b[0mmlines\u001b[0m\u001b[0;34m.\u001b[0m\u001b[0mLine2D\u001b[0m\u001b[0;34m)\u001b[0m\u001b[0;34m\u001b[0m\u001b[0;34m\u001b[0m\u001b[0m\n\u001b[0;32m-> 1743\u001b[0;31m         \u001b[0mlines\u001b[0m \u001b[0;34m=\u001b[0m \u001b[0;34m[\u001b[0m\u001b[0;34m*\u001b[0m\u001b[0mself\u001b[0m\u001b[0;34m.\u001b[0m\u001b[0m_get_lines\u001b[0m\u001b[0;34m(\u001b[0m\u001b[0;34m*\u001b[0m\u001b[0margs\u001b[0m\u001b[0;34m,\u001b[0m \u001b[0mdata\u001b[0m\u001b[0;34m=\u001b[0m\u001b[0mdata\u001b[0m\u001b[0;34m,\u001b[0m \u001b[0;34m**\u001b[0m\u001b[0mkwargs\u001b[0m\u001b[0;34m)\u001b[0m\u001b[0;34m]\u001b[0m\u001b[0;34m\u001b[0m\u001b[0;34m\u001b[0m\u001b[0m\n\u001b[0m\u001b[1;32m   1744\u001b[0m         \u001b[0;32mfor\u001b[0m \u001b[0mline\u001b[0m \u001b[0;32min\u001b[0m \u001b[0mlines\u001b[0m\u001b[0;34m:\u001b[0m\u001b[0;34m\u001b[0m\u001b[0;34m\u001b[0m\u001b[0m\n\u001b[1;32m   1745\u001b[0m             \u001b[0mself\u001b[0m\u001b[0;34m.\u001b[0m\u001b[0madd_line\u001b[0m\u001b[0;34m(\u001b[0m\u001b[0mline\u001b[0m\u001b[0;34m)\u001b[0m\u001b[0;34m\u001b[0m\u001b[0;34m\u001b[0m\u001b[0m\n",
      "\u001b[0;32m/usr/local/anaconda3/lib/python3.8/site-packages/matplotlib/axes/_base.py\u001b[0m in \u001b[0;36m__call__\u001b[0;34m(self, data, *args, **kwargs)\u001b[0m\n\u001b[1;32m    271\u001b[0m                 \u001b[0mthis\u001b[0m \u001b[0;34m+=\u001b[0m \u001b[0margs\u001b[0m\u001b[0;34m[\u001b[0m\u001b[0;36m0\u001b[0m\u001b[0;34m]\u001b[0m\u001b[0;34m,\u001b[0m\u001b[0;34m\u001b[0m\u001b[0;34m\u001b[0m\u001b[0m\n\u001b[1;32m    272\u001b[0m                 \u001b[0margs\u001b[0m \u001b[0;34m=\u001b[0m \u001b[0margs\u001b[0m\u001b[0;34m[\u001b[0m\u001b[0;36m1\u001b[0m\u001b[0;34m:\u001b[0m\u001b[0;34m]\u001b[0m\u001b[0;34m\u001b[0m\u001b[0;34m\u001b[0m\u001b[0m\n\u001b[0;32m--> 273\u001b[0;31m             \u001b[0;32myield\u001b[0m \u001b[0;32mfrom\u001b[0m \u001b[0mself\u001b[0m\u001b[0;34m.\u001b[0m\u001b[0m_plot_args\u001b[0m\u001b[0;34m(\u001b[0m\u001b[0mthis\u001b[0m\u001b[0;34m,\u001b[0m \u001b[0mkwargs\u001b[0m\u001b[0;34m)\u001b[0m\u001b[0;34m\u001b[0m\u001b[0;34m\u001b[0m\u001b[0m\n\u001b[0m\u001b[1;32m    274\u001b[0m \u001b[0;34m\u001b[0m\u001b[0m\n\u001b[1;32m    275\u001b[0m     \u001b[0;32mdef\u001b[0m \u001b[0mget_next_color\u001b[0m\u001b[0;34m(\u001b[0m\u001b[0mself\u001b[0m\u001b[0;34m)\u001b[0m\u001b[0;34m:\u001b[0m\u001b[0;34m\u001b[0m\u001b[0;34m\u001b[0m\u001b[0m\n",
      "\u001b[0;32m/usr/local/anaconda3/lib/python3.8/site-packages/matplotlib/axes/_base.py\u001b[0m in \u001b[0;36m_plot_args\u001b[0;34m(self, tup, kwargs)\u001b[0m\n\u001b[1;32m    397\u001b[0m \u001b[0;34m\u001b[0m\u001b[0m\n\u001b[1;32m    398\u001b[0m         \u001b[0;32mif\u001b[0m \u001b[0mx\u001b[0m\u001b[0;34m.\u001b[0m\u001b[0mshape\u001b[0m\u001b[0;34m[\u001b[0m\u001b[0;36m0\u001b[0m\u001b[0;34m]\u001b[0m \u001b[0;34m!=\u001b[0m \u001b[0my\u001b[0m\u001b[0;34m.\u001b[0m\u001b[0mshape\u001b[0m\u001b[0;34m[\u001b[0m\u001b[0;36m0\u001b[0m\u001b[0;34m]\u001b[0m\u001b[0;34m:\u001b[0m\u001b[0;34m\u001b[0m\u001b[0;34m\u001b[0m\u001b[0m\n\u001b[0;32m--> 399\u001b[0;31m             raise ValueError(f\"x and y must have same first dimension, but \"\n\u001b[0m\u001b[1;32m    400\u001b[0m                              f\"have shapes {x.shape} and {y.shape}\")\n\u001b[1;32m    401\u001b[0m         \u001b[0;32mif\u001b[0m \u001b[0mx\u001b[0m\u001b[0;34m.\u001b[0m\u001b[0mndim\u001b[0m \u001b[0;34m>\u001b[0m \u001b[0;36m2\u001b[0m \u001b[0;32mor\u001b[0m \u001b[0my\u001b[0m\u001b[0;34m.\u001b[0m\u001b[0mndim\u001b[0m \u001b[0;34m>\u001b[0m \u001b[0;36m2\u001b[0m\u001b[0;34m:\u001b[0m\u001b[0;34m\u001b[0m\u001b[0;34m\u001b[0m\u001b[0m\n",
      "\u001b[0;31mValueError\u001b[0m: x and y must have same first dimension, but have shapes (20,) and (21,)"
     ]
    },
    {
     "data": {
      "image/png": "[encoded data removed]",
      "text/plain": [
       "<Figure size 432x288 with 1 Axes>"
      ]
     },
     "metadata": {
      "needs_background": "light"
     },
     "output_type": "display_data"
    }
   ],
   "source": [
    "plt.plot(p_mat, tvd, 'r', label=\"TVD\")\n",
    "plt.plot(p_mat, tvd2, 'g', label=\"TVD2\")\n",
    "plt.xticks(np.arange(0.05, 1, .1))\n",
    "plt.xlabel(\"p\")\n",
    "plt.legend()\n",
    "plt.show()"
   ]
  },
  {
   "cell_type": "code",
   "execution_count": 29,
   "metadata": {},
   "outputs": [
    {
     "data": {
      "image/png": "[encoded data removed]",
      "text/plain": [
       "<Figure size 432x288 with 1 Axes>"
      ]
     },
     "metadata": {
      "needs_background": "light"
     },
     "output_type": "display_data"
    }
   ],
   "source": [
    "plt.plot(p_mat, kl_div, 'b', label=\"KL-Divergence\")\n",
    "plt.plot(p_mat, tvd, 'r', label=\"TVD\")\n",
    "plt.xticks(np.arange(0.05, 1, .1))\n",
    "plt.xlabel(\"p\")\n",
    "plt.legend()\n",
    "plt.show()"
   ]
  },
  {
   "cell_type": "code",
   "execution_count": 34,
   "metadata": {},
   "outputs": [
    {
     "data": {
      "image/png": "[encoded data removed]",
      "text/plain": [
       "<Figure size 432x288 with 1 Axes>"
      ]
     },
     "metadata": {
      "needs_background": "light"
     },
     "output_type": "display_data"
    }
   ],
   "source": [
    "plt.plot(p_mat, kl_div, 'b', label=\"KL-Divergence\")\n",
    "plt.plot(p_mat, np.sqrt((1/2)*kl_div), 'b--', label=\"Bound\")\n",
    "plt.plot(p_mat, tvd, 'r', label=\"TVD\")\n",
    "plt.xticks(np.arange(0, 1, .1))\n",
    "plt.title(\"Measuring the difference of Cauchy(0,1) and G(Mixture)\", fontsize=15)\n",
    "plt.xlabel(\"Mixture Weight p\", fontsize=15)\n",
    "plt.xticks(fontsize=12)\n",
    "plt.yticks(fontsize=12)\n",
    "plt.legend()\n",
    "plt.show()"
   ]
  },
  {
   "cell_type": "code",
   "execution_count": null,
   "metadata": {},
   "outputs": [],
   "source": [
    "plt.plot([i for i in np.arange(-15,15,.1)], [np.real(density(num, p_)) for num in np.arange(-15,15,.1)])\n",
    "plt.plot([i for i in np.arange(-15,15,.1)], [pdf_cauchy(num) for num in np.arange(-15,15,.1)])\n",
    "plt.xlim(-15,15)\n",
    "plt.ylim(0,.5)\n",
    "plt.show() "
   ]
  },
  {
   "cell_type": "code",
   "execution_count": null,
   "metadata": {},
   "outputs": [],
   "source": [
    "kl_divergence(p,q)"
   ]
  },
  {
   "cell_type": "code",
   "execution_count": 2,
   "metadata": {
    "execution": {
     "iopub.execute_input": "2021-07-20T17:57:15.638Z",
     "iopub.status.busy": "2021-07-20T17:57:15.634Z",
     "iopub.status.idle": "2021-07-20T17:57:15.652Z",
     "shell.execute_reply": "2021-07-20T17:57:15.657Z"
    }
   },
   "outputs": [],
   "source": [
    "def ell_1(n):\n",
    "    U = np.random.uniform(0,1,n)\n",
    "    tmp = np.array([0,1])\n",
    "    Final = np.zeros(n)\n",
    "    U = np.hstack((U,tmp))\n",
    "    U = np.sort(U)\n",
    "    for i in range(1,n+1):\n",
    "        Final[i-1] = U[i] - U[i-1]\n",
    "    Final = np.reshape(Final, (n,1))\n",
    "    for j in range(n):\n",
    "        binom = np.random.binomial(1,.5)\n",
    "        if(binom == 1):\n",
    "            Final[j] = Final[j]*(-1)\n",
    "    return Final\n",
    "\n",
    "\n",
    "def obtain_samples_lp(samples, n, p_):\n",
    "    S = np.zeros((n, 1))\n",
    "    for i in range(samples):\n",
    "        choice = np.random.choice(2, 1, p=[p_, 1-p_])\n",
    "        if(choice == 0):\n",
    "            S = np.hstack((S, ell_1(n)))\n",
    "        if(choice == 1):\n",
    "            S = np.hstack((S,np.random.standard_cauchy((n,1))))\n",
    "            #S = np.hstack((S, np.random.pareto(3,(n,1))))\n",
    "    S = np.delete(S, 0,1)\n",
    "    return S"
   ]
  },
  {
   "cell_type": "code",
   "execution_count": 3,
   "metadata": {},
   "outputs": [],
   "source": [
    "def simplex(n):\n",
    "    U = np.random.uniform(0,1,n)\n",
    "    tmp = np.array([0,1])\n",
    "    Final = np.zeros(n)\n",
    "    U = np.hstack((U,tmp))\n",
    "    U = np.sort(U)\n",
    "    for i in range(1,n+1):\n",
    "        Final[i-1] = U[i] - U[i-1]\n",
    "    Final = np.reshape(Final, (n,1))\n",
    "    return Final"
   ]
  },
  {
   "cell_type": "code",
   "execution_count": 35,
   "metadata": {},
   "outputs": [],
   "source": [
    "def obtain_samples_simplex(samples, n, p_):\n",
    "    S = np.zeros((n, 1))\n",
    "    for i in range(samples):\n",
    "        choice = np.random.choice(2, 1, p=[p_, 1-p_])\n",
    "        if(choice == 0):\n",
    "            S = np.hstack((S, simplex(n)))\n",
    "        if(choice == 1):\n",
    "            S = np.hstack((S,np.random.standard_cauchy((n,1))))\n",
    "            #S = np.hstack((S, np.random.pareto(3,(n,1))))\n",
    "    S = np.delete(S, 0,1)\n",
    "    mean = np.mean(S)\n",
    "    S = S - mean\n",
    "    return S, mean\n",
    "def support(X, val, q): # Set q to be the qth quantile\n",
    "    return np.quantile((X.T).dot(val), q)\n",
    "\n",
    "def compute_fb(X, q, n):\n",
    "    polar_body = np.ones((n,0))\n",
    "    for i in range(X.shape[1]):\n",
    "        if support(X, X[:,i] / la.norm(X[:,i]), q) > np.dot(X[:,i], X[:,i]/la.norm(X[:,i])): \n",
    "            polar_body = np.hstack((polar_body, np.array(X[:,i]).reshape(n,1)))\n",
    "    return polar_body"
   ]
  },
  {
   "cell_type": "code",
   "execution_count": null,
   "metadata": {
    "execution": {
     "iopub.execute_input": "2021-07-20T18:25:17.282Z",
     "iopub.status.busy": "2021-07-20T18:25:17.273Z",
     "iopub.status.idle": "2021-07-20T18:26:27.338Z",
     "shell.execute_reply": "2021-07-20T18:26:27.357Z"
    }
   },
   "outputs": [],
   "source": [
    "samples = 15000\n",
    "n = 10\n",
    "S = np.zeros((n, 1))\n",
    "percent = 1\n",
    "fb = True\n",
    "S, mean = obtain_samples_simplex(samples, n, percent)\n",
    "S_1 = obtain_samples_lp(samples, n, percent)\n",
    "sns.displot(S[0, :] + mean, kind='hist', stat='density', legend=\"Empirical\");\n",
    "sns.displot(S[0, :] + mean, kind=\"kde\")\n",
    "sns.displot(S_1[0, :], kind='hist', stat='density', legend=\"Empirical\");\n",
    "plt.xlim(-2,2)\n",
    "plt.ylim(0,4)\n",
    "V = np.hstack((np.zeros((n,1)),np.eye(n,n))) - mean\n",
    "A = np.random.normal(0,1,(n,n))\n",
    "sqrt = np.sqrt(np.sum(A**2, axis = 0))\n",
    "A = A  / (np.tile(sqrt,(n,1)))\n",
    "\n",
    "#A = np.array([[1,0],[0,1]])\n",
    "X = A@S\n",
    "V = A@V\n",
    "if fb:\n",
    "    X = compute_fb(X,.95,n)\n",
    "    num_of_samples_left =  samples - X.shape[1]\n",
    "sns.displot(X[0, :], kind='hist', stat='density', legend=\"Empirical\");\n",
    "plt.xlim(-3,3)\n",
    "plt.ylim(0,4)\n",
    "X = np.vstack([X, np.ones((1,X.shape[1]))])\n",
    "\n",
    "T = np.random.gamma(X.shape[0], 1, (1,X.shape[1]))\n",
    "Q = X * np.tile(T,(X.shape[0],1))\n",
    "\n",
    "\n",
    "sns.displot(Q[0, :], kind='hist', stat='density', legend=\"Empirical\");\n",
    "plt.xlim(-15,15)\n",
    "plt.ylim(0,1)"
   ]
  },
  {
   "cell_type": "code",
   "execution_count": 44,
   "metadata": {
    "execution": {
     "iopub.execute_input": "2021-07-20T17:06:38.217Z",
     "iopub.status.busy": "2021-07-20T17:06:38.207Z",
     "iopub.status.idle": "2021-07-20T17:06:38.231Z",
     "shell.execute_reply": "2021-07-20T17:06:38.235Z"
    }
   },
   "outputs": [],
   "source": [
    "def density(z, p):\n",
    "    if(z > 0):\n",
    "        left = (np.exp(-z)*p)/2\n",
    "        middle = (np.exp((-z)/2000)*(p-1)*(2000+z))/(4000*np.pi)\n",
    "        right = (((np.exp(-1j*z))*(p-1)*(z*z))*(((np.exp(2j*z))*sp.expi(((-1/2000)-1j)*z))+sp.expi(((-1/2000)+1j)*z)-((2*np.exp(1j*z))*(sp.expn(1,z)+sp.expi(-z)+np.pi*np.sin(z)))))/(4*np.pi)\n",
    "        return left-middle-right\n",
    "    else:\n",
    "        z = -z\n",
    "        left = (np.exp(-z)*p)/2\n",
    "        middle = (np.exp((-z)/2000)*(p-1)*(2000+z))/(4000*np.pi)\n",
    "        right = (((np.exp(-1j*z))*(p-1)*(z*z))*(((np.exp(2j*z))*sp.expi(((-1/2000)-1j)*z))+sp.expi(((-1/2000)+1j)*z)-((2*np.exp(1j*z))*(sp.expn(1,z)+sp.expi(-z)+np.pi*np.sin(z)))))/(4*np.pi)\n",
    "        return left-middle-right\n",
    "def density_par(y, p, k):\n",
    "    if(y > 0):\n",
    "        left = np.exp(-y)*p/2\n",
    "        middle = ((1-p)*(((y*y)*((np.exp(-y/k)*(k+y))/(k*y*y)\n",
    "                                              +((1/2)*(sp.expi(-y/k)\n",
    "                                                       +((np.exp(1j*y))*(1j*np.pi+sp.expi(((-1/k)-1j)*y)))))\n",
    "                                              +((np.exp(-1j*y)/2)*(-1j*np.pi-(np.exp(1j*y)*sp.expi(-y/k))\n",
    "                                                                       +sp.expi(((-1/k)+1j)*y)))\n",
    "                                              -sp.gammaincc(0,y/k)))/(2*np.pi)))\n",
    "\n",
    "        return (left+middle)\n",
    "    else:\n",
    "        y = -y\n",
    "        left = np.exp(-y)*p/2\n",
    "        middle = ((1-p)*(((y*y)*((np.exp(-y/k)*(k+y))/(k*y*y)\n",
    "                                              +((1/2)*(sp.expi(-y/k)\n",
    "                                                       +((np.exp(1j*y))*(1j*np.pi+sp.expi(((-1/k)-1j)*y)))))\n",
    "                                              +((np.exp(-1j*y)/2)*(-1j*np.pi-(np.exp(1j*y)*sp.expi(-y/k))\n",
    "                                                                       +sp.expi(((-1/k)+1j)*y)))\n",
    "                                              -sp.gammaincc(0,y/k)))/(2*np.pi)))\n",
    "\n",
    "        return (left+middle)\n",
    "def cdf_cauchy(x):\n",
    "    return (1/np.pi)*np.arctan(x) + .5\n",
    "def pdf_cauchy(x):\n",
    "    return 1/(np.pi*(1+x**2))\n",
    "def pdf_normal(x):\n",
    "    return np.exp(-np.power(x,2)/2)/(np.sqrt(2*np.pi))\n",
    "def density_par_simplex(y, p, k):\n",
    "    if(y > 0):\n",
    "        left = np.exp(-y)*p\n",
    "        middle = 2*((1-p)*(((y*y)*((np.exp(-y/k)*(k+y))/(k*y*y)\n",
    "                                              +((1/2)*(sp.expi(-y/k)\n",
    "                                                       +((np.exp(1j*y))*(1j*np.pi+sp.expi(((-1/k)-1j)*y)))))\n",
    "                                              +((np.exp(-1j*y)/2)*(-1j*np.pi-(np.exp(1j*y)*sp.expi(-y/k))\n",
    "                                                                       +sp.expi(((-1/k)+1j)*y)))\n",
    "                                              -sp.gammaincc(0,y/k)))/(2*np.pi)))\n",
    "\n",
    "        return (left+middle)\n",
    "    else:\n",
    "        y = -y\n",
    "        middle = ((1-p)*(((y*y)*((np.exp(-y/k)*(k+y))/(k*y*y)\n",
    "                                              +((1/2)*(sp.expi(-y/k)\n",
    "                                                       +((np.exp(1j*y))*(1j*np.pi+sp.expi(((-1/k)-1j)*y)))))\n",
    "                                              +((np.exp(-1j*y)/2)*(-1j*np.pi-(np.exp(1j*y)*sp.expi(-y/k))\n",
    "                                                                       +sp.expi(((-1/k)+1j)*y)))\n",
    "                                              -sp.gammaincc(0,y/k)))/(2*np.pi)))\n",
    "\n",
    "        return middle"
   ]
  },
  {
   "cell_type": "code",
   "execution_count": null,
   "metadata": {},
   "outputs": [],
   "source": [
    "p_ = .1\n",
    "plt.plot([i for i in np.arange(-15,15,.01)], [(1-np.abs(num)) for num in np.arange(-15,15,.01)], label=\"L-1\")\n",
    "plt.plot([i for i in np.arange(-15,15,.01)], [2*(1-num) if num >= 0 else 0 for num in np.arange(-15,15,.01)], label=\"Simplex\")\n",
    "plt.xlim(-1,1)\n",
    "plt.ylim(0,)\n",
    "plt.legend()\n",
    "plt.show() "
   ]
  },
  {
   "cell_type": "code",
   "execution_count": 57,
   "metadata": {},
   "outputs": [
    {
     "data": {
      "image/png": "[encoded data removed]",
      "text/plain": [
       "<Figure size 432x288 with 1 Axes>"
      ]
     },
     "metadata": {
      "needs_background": "light"
     },
     "output_type": "display_data"
    }
   ],
   "source": [
    "p_ = .1\n",
    "plt.plot([i for i in np.arange(-15,20,.01)], [np.real(pdf_normal(num)) for num in np.arange(-15,20,.01)], label=\"Normal\")\n",
    "plt.plot([i for i in np.arange(-15,20,.01)], [np.real(density_par(num, p_,20000)) for num in np.arange(-15,20,.01)], label=\"Mixture\")\n",
    "plt.plot([i for i in np.arange(-15,20,.01)], [np.real(pdf_cauchy(num)) for num in np.arange(-15,20,.01)], label=\"Cauchy\")\n",
    "plt.xlim(10,20)\n",
    "plt.ylim(0,.05)\n",
    "plt.legend()\n",
    "plt.show() "
   ]
  },
  {
   "cell_type": "code",
   "execution_count": null,
   "metadata": {},
   "outputs": [],
   "source": [
    "limit = 200\n",
    "resarr = np.zeros((limit-1))\n",
    "index = 0\n",
    "for num in range(1,limit):\n",
    "    res, err = quad(density_par, 0, num,args=(p_,20000))\n",
    "    resarr[index] = res\n",
    "    index += 1\n",
    "    print(err)\n",
    "plt.plot([i for i in range(1,limit)],resarr)\n",
    "plt.plot()"
   ]
  },
  {
   "cell_type": "code",
   "execution_count": 8,
   "metadata": {},
   "outputs": [
    {
     "data": {
      "image/png": "[encoded data removed]",
      "text/plain": [
       "<Figure size 360x360 with 1 Axes>"
      ]
     },
     "metadata": {
      "needs_background": "light"
     },
     "output_type": "display_data"
    }
   ],
   "source": [
    "samples = 10000\n",
    "n = 2\n",
    "S = np.zeros((n, 1))\n",
    "percent = .9\n",
    "p_ = percent\n",
    "fb = False\n",
    "S = obtain_samples_lp(samples, n, percent)\n",
    "A = np.array([[1,0],[0,1]])\n",
    "X = A@S\n",
    "if fb:\n",
    "    X = compute_fb(X,.95,n)\n",
    "    num_of_samples_left = samples - X.shape[1]\n",
    "T = np.random.gamma(((X.shape[0]) / 1) + 1, 1, (1, X.shape[1]))\n",
    "Q = X * np.tile(T ** (1 / 1), (X.shape[0], 1))\n",
    "\n",
    "sns.displot(Q[0, :], kind='hist', stat='density', legend=\"Empirical\");\n",
    "plt.xlim(-15,15)\n",
    "plt.ylim(0,.5)\n",
    "\n",
    "plt.plot([i for i in np.arange(-15,15,.1)], [np.real(density_par(num, p_,2000)) for num in np.arange(-15,15,.1)], \"r\", label=\"Analytic\")\n",
    "plt.xlim(-15,15)\n",
    "plt.ylim(0,.5)\n",
    "plt.ylabel(\"\")\n",
    "plt.xticks(fontsize=12)\n",
    "plt.yticks(fontsize=12)\n",
    "plt.legend(fontsize=15);\n",
    "plt.show()"
   ]
  },
  {
   "cell_type": "code",
   "execution_count": null,
   "metadata": {},
   "outputs": [],
   "source": [
    "index = 1\n",
    "for p_ in np.arange(.1,1,.1):\n",
    "    plt.subplot(3,3,index).set_title(\"p=%d\" % p_)\n",
    "    samples = 3000\n",
    "    n = 2\n",
    "    S = np.zeros((n, 1))\n",
    "    for i in range(samples):\n",
    "        choice = np.random.choice(2, 1, p=[p_, 1-p_])\n",
    "        if(choice == 0):\n",
    "            S = np.hstack((S, ell_1(n)))\n",
    "        if(choice == 1):\n",
    "            S = np.hstack((S,np.random.standard_cauchy((n,1))))\n",
    "    S = np.delete(S, 0,1)\n",
    "    \n",
    "    A = np.array([[1,0],[0,1]])\n",
    "    X_ = A@S\n",
    "    T = np.random.gamma(((X_.shape[0])/1)+1, 1, (1,X_.shape[1]))\n",
    "    Q = X_ * np.tile(T**(1/1),(X_.shape[0],1))\n",
    "    sns.displot(Q[0, :], kind='hist', stat='density');\n",
    "    plt.plot([i for i in np.arange(-15,15,.1)], [np.real(density(num, p_)) for num in np.arange(-15,15,.1)])\n",
    "    plt.xlim(-15,15)\n",
    "    plt.ylim(0,.5)\n",
    "    plt.rcParams['figure.figsize'] = [25, 20]\n",
    "    print(p_)\n",
    "    index += 1\n",
    "plt.show()"
   ]
  },
  {
   "cell_type": "code",
   "execution_count": null,
   "metadata": {},
   "outputs": [],
   "source": [
    "n = 2\n",
    "percent = .9\n",
    "samples = 5000\n",
    "plots = False\n",
    "fb = False\n",
    "S, mean = obtain_samples_simplex(samples, n, percent)\n",
    "sns.displot(S[0, :], kind='hist', stat='density', legend=\"Empirical\");\n",
    "plt.xlim(-10,10)\n",
    "plt.ylim(0,1)\n",
    "V = np.hstack((np.zeros((n,1)),np.eye(n,n))) - mean\n",
    "A = np.random.normal(0,1,(n,n))\n",
    "sqrt = np.sqrt(np.sum(A**2, axis = 0))\n",
    "A = A  / (np.tile(sqrt,(n,1)))\n",
    "\n",
    "#A = np.array([[1,0],[0,1]])\n",
    "X = A@S\n",
    "V = A@V\n",
    "if fb:\n",
    "    X = compute_fb(X,.95,n)\n",
    "    num_of_samples_left =  samples - X.shape[1]\n",
    "    sns.displot(X[0, :], kind='hist', stat='density', legend=\"Empirical\");\n",
    "    plt.xlim(-10,10)\n",
    "    plt.ylim(0,1)\n",
    "X = np.vstack([X, np.ones((1,X.shape[1]))])\n",
    "\n",
    "T = np.random.gamma(X.shape[0], 1, (1,X.shape[1]))\n",
    "Q = X * np.tile(T,(X.shape[0],1))\n",
    "sns.displot(Q[0, :], kind='hist', stat='density', legend=\"Empirical\");\n",
    "plt.xlim(-10,10)\n",
    "plt.ylim(0,1)\n"
   ]
  },
  {
   "cell_type": "code",
   "execution_count": null,
   "metadata": {},
   "outputs": [],
   "source": []
  }
 ],
 "metadata": {
  "kernelspec": {
   "display_name": "Python 3",
   "language": "python",
   "name": "python3"
  },
  "language_info": {
   "codemirror_mode": {
    "name": "ipython",
    "version": 3
   },
   "file_extension": ".py",
   "mimetype": "text/x-python",
   "name": "python",
   "nbconvert_exporter": "python",
   "pygments_lexer": "ipython3",
   "version": "3.8.5"
  },
  "nteract": {
   "version": "0.28.0"
  }
 },
 "nbformat": 4,
 "nbformat_minor": 4
}
